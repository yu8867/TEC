{
 "cells": [
  {
   "cell_type": "code",
   "execution_count": 1,
   "id": "242903bb",
   "metadata": {},
   "outputs": [],
   "source": [
    "import numpy as np\n",
    "import pandas as pd\n",
    "from PIL import Image\n",
    "import matplotlib.pyplot as plt\n",
    "\n",
    "from module.tf_idf import Converter"
   ]
  },
  {
   "cell_type": "code",
   "execution_count": 2,
   "id": "db1b75f1",
   "metadata": {},
   "outputs": [
    {
     "name": "stdout",
     "output_type": "stream",
     "text": [
      "301\n"
     ]
    }
   ],
   "source": [
    "hdf_path = '/workspace/data/title/'\n",
    "file_name = '押絵と旅する男_predicted.h5'\n",
    "\n",
    "converter = Converter('押絵と旅する男')\n",
    "df, lists = converter.main()\n",
    "\n",
    "df = pd.read_hdf(hdf_path+file_name)\n",
    "print(len(df))\n",
    "# print(df.keys())\n",
    "# print(type(df['contexsts_label'][0]))"
   ]
  },
  {
   "cell_type": "code",
   "execution_count": 3,
   "id": "22ef0bd7",
   "metadata": {},
   "outputs": [
    {
     "name": "stdout",
     "output_type": "stream",
     "text": [
      "Index(['japanese_texts', 'english_texts', 'contexsts_label', 'picture_label'], dtype='object')\n"
     ]
    },
    {
     "data": {
      "text/html": [
       "<div>\n",
       "<style scoped>\n",
       "    .dataframe tbody tr th:only-of-type {\n",
       "        vertical-align: middle;\n",
       "    }\n",
       "\n",
       "    .dataframe tbody tr th {\n",
       "        vertical-align: top;\n",
       "    }\n",
       "\n",
       "    .dataframe thead th {\n",
       "        text-align: right;\n",
       "    }\n",
       "</style>\n",
       "<table border=\"1\" class=\"dataframe\">\n",
       "  <thead>\n",
       "    <tr style=\"text-align: right;\">\n",
       "      <th></th>\n",
       "      <th>japanese_texts</th>\n",
       "      <th>english_texts</th>\n",
       "      <th>contexsts_label</th>\n",
       "      <th>picture_label</th>\n",
       "    </tr>\n",
       "  </thead>\n",
       "  <tbody>\n",
       "    <tr>\n",
       "      <th>0</th>\n",
       "      <td>この話が私の夢か私の一時的狂気の幻でなかったならば、あの押絵と旅をしていた男こそ狂人であった...</td>\n",
       "      <td>If this story was not a dream of mine or an il...</td>\n",
       "      <td>1</td>\n",
       "      <td>0</td>\n",
       "    </tr>\n",
       "    <tr>\n",
       "      <th>1</th>\n",
       "      <td>だが、夢が時として、どこかこの世界と喰違った別の世界を、チラリと覗かせてくれる様に、又狂人が...</td>\n",
       "      <td>But just as dreams sometimes give us a glimpse...</td>\n",
       "      <td>1</td>\n",
       "      <td>1</td>\n",
       "    </tr>\n",
       "    <tr>\n",
       "      <th>2</th>\n",
       "      <td>いつとも知れぬ、ある暖かい薄曇った日のことである。</td>\n",
       "      <td>It was a warm, lightly cloudy day, at any time...</td>\n",
       "      <td>1</td>\n",
       "      <td>1</td>\n",
       "    </tr>\n",
       "    <tr>\n",
       "      <th>3</th>\n",
       "      <td>その時、私は態々魚津へ蜃気楼を見に出掛けた帰り途であった。</td>\n",
       "      <td>At the time, I was on my way back from a trip ...</td>\n",
       "      <td>1</td>\n",
       "      <td>1</td>\n",
       "    </tr>\n",
       "    <tr>\n",
       "      <th>4</th>\n",
       "      <td>私がこの話をすると、時々、お前は魚津なんかへ行ったことはないじゃないかと、親しい友達に突っ込...</td>\n",
       "      <td>When I tell this story, close friends sometime...</td>\n",
       "      <td>0</td>\n",
       "      <td>0</td>\n",
       "    </tr>\n",
       "  </tbody>\n",
       "</table>\n",
       "</div>"
      ],
      "text/plain": [
       "                                      japanese_texts  \\\n",
       "0  この話が私の夢か私の一時的狂気の幻でなかったならば、あの押絵と旅をしていた男こそ狂人であった...   \n",
       "1  だが、夢が時として、どこかこの世界と喰違った別の世界を、チラリと覗かせてくれる様に、又狂人が...   \n",
       "2                          いつとも知れぬ、ある暖かい薄曇った日のことである。   \n",
       "3                      その時、私は態々魚津へ蜃気楼を見に出掛けた帰り途であった。   \n",
       "4  私がこの話をすると、時々、お前は魚津なんかへ行ったことはないじゃないかと、親しい友達に突っ込...   \n",
       "\n",
       "                                       english_texts contexsts_label  \\\n",
       "0  If this story was not a dream of mine or an il...               1   \n",
       "1  But just as dreams sometimes give us a glimpse...               1   \n",
       "2  It was a warm, lightly cloudy day, at any time...               1   \n",
       "3  At the time, I was on my way back from a trip ...               1   \n",
       "4  When I tell this story, close friends sometime...               0   \n",
       "\n",
       "  picture_label  \n",
       "0             0  \n",
       "1             1  \n",
       "2             1  \n",
       "3             1  \n",
       "4             0  "
      ]
     },
     "execution_count": 3,
     "metadata": {},
     "output_type": "execute_result"
    }
   ],
   "source": [
    "kakko = [\"「\", \"」\"]\n",
    "drop_short_index = [i for i,x in enumerate(df['japanese_texts']) if len(x) <= 15]\n",
    "drop_kakko_index = [i for i,x in enumerate(df['japanese_texts']) if x[0] in kakko]\n",
    "\n",
    "drop_index = drop_kakko_index + drop_short_index\n",
    "drop_index = list(set(drop_index))\n",
    "\n",
    "df = df.drop(drop_index)\n",
    "print(df.keys())\n",
    "df.head()\n",
    "# df = df.reset_index(drop=True)\n",
    "# print(len(df))\n",
    "# print(df.keys())\n",
    "# df.head()"
   ]
  },
  {
   "cell_type": "code",
   "execution_count": 4,
   "id": "a7d65ce0",
   "metadata": {},
   "outputs": [
    {
     "name": "stdout",
     "output_type": "stream",
     "text": [
      "23\n"
     ]
    },
    {
     "data": {
      "text/html": [
       "<div>\n",
       "<style scoped>\n",
       "    .dataframe tbody tr th:only-of-type {\n",
       "        vertical-align: middle;\n",
       "    }\n",
       "\n",
       "    .dataframe tbody tr th {\n",
       "        vertical-align: top;\n",
       "    }\n",
       "\n",
       "    .dataframe thead th {\n",
       "        text-align: right;\n",
       "    }\n",
       "</style>\n",
       "<table border=\"1\" class=\"dataframe\">\n",
       "  <thead>\n",
       "    <tr style=\"text-align: right;\">\n",
       "      <th></th>\n",
       "      <th>japanese_texts</th>\n",
       "      <th>english_texts</th>\n",
       "      <th>contexsts_label</th>\n",
       "      <th>picture_label</th>\n",
       "    </tr>\n",
       "  </thead>\n",
       "  <tbody>\n",
       "    <tr>\n",
       "      <th>0</th>\n",
       "      <td>夢の中の景色は、映画と同じに、全く色彩を伴わぬものであるのに、あの折の汽車の中の景色丈けは、...</td>\n",
       "      <td>The scenery in the dream, like in the film, is...</td>\n",
       "      <td>1</td>\n",
       "      <td>1</td>\n",
       "    </tr>\n",
       "    <tr>\n",
       "      <th>1</th>\n",
       "      <td>曖昧な形の、真黒な巨大な三角形が、塔の様に積重なって行ったり、またたく間にくずれたり、横に延...</td>\n",
       "      <td>Huge, black triangles of ambiguous shapes pile...</td>\n",
       "      <td>1</td>\n",
       "      <td>1</td>\n",
       "    </tr>\n",
       "    <tr>\n",
       "      <th>2</th>\n",
       "      <td>蜃気楼の魔力が、人間を気違いにするものであったなら、恐らく私は、少くとも帰り途の汽車の中まで...</td>\n",
       "      <td>If the mirage's magic was to make people go ma...</td>\n",
       "      <td>1</td>\n",
       "      <td>1</td>\n",
       "    </tr>\n",
       "    <tr>\n",
       "      <th>3</th>\n",
       "      <td>二時間の余も立ち尽して、大空の妖異を眺めていた私は、その夕方魚津を立って、汽車の中に一夜を過...</td>\n",
       "      <td>I stood there for more than two hours gazing a...</td>\n",
       "      <td>1</td>\n",
       "      <td>1</td>\n",
       "    </tr>\n",
       "    <tr>\n",
       "      <th>4</th>\n",
       "      <td>魚津の駅から上野への汽車に乗ったのは、夕方の六時頃であった。</td>\n",
       "      <td>It was around six in the evening when I boarde...</td>\n",
       "      <td>1</td>\n",
       "      <td>1</td>\n",
       "    </tr>\n",
       "  </tbody>\n",
       "</table>\n",
       "</div>"
      ],
      "text/plain": [
       "                                      japanese_texts  \\\n",
       "0  夢の中の景色は、映画と同じに、全く色彩を伴わぬものであるのに、あの折の汽車の中の景色丈けは、...   \n",
       "1  曖昧な形の、真黒な巨大な三角形が、塔の様に積重なって行ったり、またたく間にくずれたり、横に延...   \n",
       "2  蜃気楼の魔力が、人間を気違いにするものであったなら、恐らく私は、少くとも帰り途の汽車の中まで...   \n",
       "3  二時間の余も立ち尽して、大空の妖異を眺めていた私は、その夕方魚津を立って、汽車の中に一夜を過...   \n",
       "4                     魚津の駅から上野への汽車に乗ったのは、夕方の六時頃であった。   \n",
       "\n",
       "                                       english_texts contexsts_label  \\\n",
       "0  The scenery in the dream, like in the film, is...               1   \n",
       "1  Huge, black triangles of ambiguous shapes pile...               1   \n",
       "2  If the mirage's magic was to make people go ma...               1   \n",
       "3  I stood there for more than two hours gazing a...               1   \n",
       "4  It was around six in the evening when I boarde...               1   \n",
       "\n",
       "  picture_label  \n",
       "0             1  \n",
       "1             1  \n",
       "2             1  \n",
       "3             1  \n",
       "4             1  "
      ]
     },
     "metadata": {},
     "output_type": "display_data"
    }
   ],
   "source": [
    "extract_df = df.query('contexsts_label==\"1\" & picture_label==\"1\"')\n",
    "extract_df = extract_df.reset_index(drop=True)\n",
    "# print(len(extract_df))\n",
    "\n",
    "index = []\n",
    "for i in range(len(extract_df)):\n",
    "    for item in lists:\n",
    "        # 入ってる\n",
    "        if item in extract_df['japanese_texts'][i]:\n",
    "            index.append(i)\n",
    "            break\n",
    "        \n",
    "tfidf_df = extract_df.iloc[index]\n",
    "tfidf_df = tfidf_df.reset_index(drop=True)\n",
    "print(len(tfidf_df))\n",
    "display(tfidf_df.head())"
   ]
  },
  {
   "cell_type": "code",
   "execution_count": 5,
   "id": "140d3578",
   "metadata": {},
   "outputs": [
    {
     "name": "stdout",
     "output_type": "stream",
     "text": [
      "23\n"
     ]
    }
   ],
   "source": [
    "text = tfidf_df['english_texts'][0]\n",
    "text = tfidf_df['english_texts'].tolist()\n",
    "# print(text[1])\n",
    "print(len(text))"
   ]
  },
  {
   "cell_type": "code",
   "execution_count": 6,
   "id": "be10ad27",
   "metadata": {},
   "outputs": [],
   "source": [
    "def show_image(path):\n",
    "    \"\"\" 画像の表示 \"\"\"\n",
    "    #path = self.image + \"/{}.png\".format(index)\n",
    "    print(path)\n",
    "    im = Image.open(path)\n",
    "    im_list = np.asarray(im)\n",
    "    plt.imshow(im_list)\n",
    "    plt.axis(\"off\")\n",
    "    plt.show()\n",
    "\n",
    "# title = '悪霊物語'\n",
    "# img_idx = img_idx_list[0]\n",
    "# path = f'/workspace/data/img/{title}/{img_idx}.png'\n",
    "# show_image(path)"
   ]
  },
  {
   "cell_type": "code",
   "execution_count": 7,
   "id": "cd03f68f",
   "metadata": {},
   "outputs": [
    {
     "name": "stdout",
     "output_type": "stream",
     "text": [
      "画像と文章はマッチしているか？\n",
      "\n",
      "夢の中の景色は、映画と同じに、全く色彩を伴わぬものであるのに、あの折の汽車の中の景色丈けは、それもあの毒々しい押絵の画面が中心になって、紫と臙脂の勝た色彩で、まるで蛇の眼の瞳孔の様に、生々しく私の記憶に焼ついている。\n",
      "\n",
      "/workspace/data/create_image/押絵と旅する男/押絵と旅する男_0/_0.png\n"
     ]
    },
    {
     "data": {
      "image/png": "[encoded data removed]",
      "text/plain": [
       "<Figure size 432x288 with 1 Axes>"
      ]
     },
     "metadata": {
      "needs_background": "light"
     },
     "output_type": "display_data"
    },
    {
     "ename": "KeyboardInterrupt",
     "evalue": "Interrupted by user",
     "output_type": "error",
     "traceback": [
      "\u001b[0;31m---------------------------------------------------------------------------\u001b[0m",
      "\u001b[0;31mKeyboardInterrupt\u001b[0m                         Traceback (most recent call last)",
      "Input \u001b[0;32mIn [7]\u001b[0m, in \u001b[0;36m<module>\u001b[0;34m\u001b[0m\n\u001b[1;32m     19\u001b[0m show_image(img_path)\n\u001b[1;32m     20\u001b[0m \u001b[38;5;66;03m# ansは文字列\u001b[39;00m\n\u001b[0;32m---> 21\u001b[0m ans \u001b[38;5;241m=\u001b[39m \u001b[38;5;28;43minput\u001b[39;49m\u001b[43m(\u001b[49m\u001b[38;5;124;43m\"\u001b[39;49m\u001b[38;5;124;43m0:マッチしてない       1:マッチしてる\u001b[39;49m\u001b[38;5;124;43m\"\u001b[39;49m\u001b[43m)\u001b[49m\n\u001b[1;32m     22\u001b[0m \u001b[38;5;28mprint\u001b[39m()\n\u001b[1;32m     24\u001b[0m \u001b[38;5;66;03m# 0か1以外だったらループする\u001b[39;00m\n",
      "File \u001b[0;32m/usr/local/lib/python3.8/dist-packages/ipykernel/kernelbase.py:1044\u001b[0m, in \u001b[0;36mKernel.raw_input\u001b[0;34m(self, prompt)\u001b[0m\n\u001b[1;32m   1040\u001b[0m \u001b[38;5;28;01mif\u001b[39;00m \u001b[38;5;129;01mnot\u001b[39;00m \u001b[38;5;28mself\u001b[39m\u001b[38;5;241m.\u001b[39m_allow_stdin:\n\u001b[1;32m   1041\u001b[0m     \u001b[38;5;28;01mraise\u001b[39;00m StdinNotImplementedError(\n\u001b[1;32m   1042\u001b[0m         \u001b[38;5;124m\"\u001b[39m\u001b[38;5;124mraw_input was called, but this frontend does not support input requests.\u001b[39m\u001b[38;5;124m\"\u001b[39m\n\u001b[1;32m   1043\u001b[0m     )\n\u001b[0;32m-> 1044\u001b[0m \u001b[38;5;28;01mreturn\u001b[39;00m \u001b[38;5;28;43mself\u001b[39;49m\u001b[38;5;241;43m.\u001b[39;49m\u001b[43m_input_request\u001b[49m\u001b[43m(\u001b[49m\n\u001b[1;32m   1045\u001b[0m \u001b[43m    \u001b[49m\u001b[38;5;28;43mstr\u001b[39;49m\u001b[43m(\u001b[49m\u001b[43mprompt\u001b[49m\u001b[43m)\u001b[49m\u001b[43m,\u001b[49m\n\u001b[1;32m   1046\u001b[0m \u001b[43m    \u001b[49m\u001b[38;5;28;43mself\u001b[39;49m\u001b[38;5;241;43m.\u001b[39;49m\u001b[43m_parent_ident\u001b[49m\u001b[43m[\u001b[49m\u001b[38;5;124;43m\"\u001b[39;49m\u001b[38;5;124;43mshell\u001b[39;49m\u001b[38;5;124;43m\"\u001b[39;49m\u001b[43m]\u001b[49m\u001b[43m,\u001b[49m\n\u001b[1;32m   1047\u001b[0m \u001b[43m    \u001b[49m\u001b[38;5;28;43mself\u001b[39;49m\u001b[38;5;241;43m.\u001b[39;49m\u001b[43mget_parent\u001b[49m\u001b[43m(\u001b[49m\u001b[38;5;124;43m\"\u001b[39;49m\u001b[38;5;124;43mshell\u001b[39;49m\u001b[38;5;124;43m\"\u001b[39;49m\u001b[43m)\u001b[49m\u001b[43m,\u001b[49m\n\u001b[1;32m   1048\u001b[0m \u001b[43m    \u001b[49m\u001b[43mpassword\u001b[49m\u001b[38;5;241;43m=\u001b[39;49m\u001b[38;5;28;43;01mFalse\u001b[39;49;00m\u001b[43m,\u001b[49m\n\u001b[1;32m   1049\u001b[0m \u001b[43m\u001b[49m\u001b[43m)\u001b[49m\n",
      "File \u001b[0;32m/usr/local/lib/python3.8/dist-packages/ipykernel/kernelbase.py:1089\u001b[0m, in \u001b[0;36mKernel._input_request\u001b[0;34m(self, prompt, ident, parent, password)\u001b[0m\n\u001b[1;32m   1086\u001b[0m             \u001b[38;5;28;01mbreak\u001b[39;00m\n\u001b[1;32m   1087\u001b[0m \u001b[38;5;28;01mexcept\u001b[39;00m \u001b[38;5;167;01mKeyboardInterrupt\u001b[39;00m:\n\u001b[1;32m   1088\u001b[0m     \u001b[38;5;66;03m# re-raise KeyboardInterrupt, to truncate traceback\u001b[39;00m\n\u001b[0;32m-> 1089\u001b[0m     \u001b[38;5;28;01mraise\u001b[39;00m \u001b[38;5;167;01mKeyboardInterrupt\u001b[39;00m(\u001b[38;5;124m\"\u001b[39m\u001b[38;5;124mInterrupted by user\u001b[39m\u001b[38;5;124m\"\u001b[39m) \u001b[38;5;28;01mfrom\u001b[39;00m \u001b[38;5;28mNone\u001b[39m\n\u001b[1;32m   1090\u001b[0m \u001b[38;5;28;01mexcept\u001b[39;00m \u001b[38;5;167;01mException\u001b[39;00m:\n\u001b[1;32m   1091\u001b[0m     \u001b[38;5;28mself\u001b[39m\u001b[38;5;241m.\u001b[39mlog\u001b[38;5;241m.\u001b[39mwarning(\u001b[38;5;124m\"\u001b[39m\u001b[38;5;124mInvalid Message:\u001b[39m\u001b[38;5;124m\"\u001b[39m, exc_info\u001b[38;5;241m=\u001b[39m\u001b[38;5;28;01mTrue\u001b[39;00m)\n",
      "\u001b[0;31mKeyboardInterrupt\u001b[0m: Interrupted by user"
     ]
    }
   ],
   "source": [
    "# example /workspace/data/create_image/押絵と旅する男/押絵と旅する男_0/---.png\n",
    "path = '/workspace/data/create_image/押絵と旅する男/押絵と旅する男_'\n",
    "jp_text_list = tfidf_df['japanese_texts'].tolist()[:]\n",
    "\n",
    "all_select_list = []\n",
    "for i in range(len(jp_text_list)):\n",
    "    img_path = f'{path}{str(i)}/_0.png'\n",
    "    jp_text = jp_text_list[i]\n",
    "    \n",
    "    \"\"\" 画像と文章が合っているか \"\"\"\n",
    "    print(\"画像と文章はマッチしているか？\")\n",
    "    print()\n",
    "    ans = None\n",
    "    while ans is None:\n",
    "        # 日本語を表示\n",
    "        print(jp_text)\n",
    "        print()\n",
    "        # 画像を表示\n",
    "        show_image(img_path)\n",
    "        # ansは文字列\n",
    "        ans = input(\"0:マッチしてない       1:マッチしてる\")\n",
    "        print()\n",
    "        \n",
    "        # 0か1以外だったらループする\n",
    "        if not (ans == '0' or ans == '1'):\n",
    "            ans = None\n",
    "        if ans == '1':\n",
    "            select_list = [i, jp_text]\n",
    "            all_select_list.append(select_list)"
   ]
  },
  {
   "cell_type": "code",
   "execution_count": null,
   "id": "0e809231",
   "metadata": {},
   "outputs": [],
   "source": [
    "print(len(all_select_list))\n",
    "print(all_select_list)"
   ]
  },
  {
   "cell_type": "code",
   "execution_count": null,
   "id": "a71b4aa7",
   "metadata": {},
   "outputs": [],
   "source": [
    "for select_list in all_select_list:\n",
    "#     select_list = all_select_list[i]\n",
    "    img_path = f'{path}{str(select_list[0])}/_0.png'\n",
    "    print(select_list[1])\n",
    "    print()\n",
    "    show_image(img_path)\n",
    "    print()"
   ]
  },
  {
   "cell_type": "code",
   "execution_count": null,
   "id": "eb16dc0e",
   "metadata": {},
   "outputs": [],
   "source": []
  }
 ],
 "metadata": {
  "interpreter": {
   "hash": "e7370f93d1d0cde622a1f8e1c04877d8463912d04d973331ad4851f04de6915a"
  },
  "kernelspec": {
   "display_name": "Python 3 (ipykernel)",
   "language": "python",
   "name": "python3"
  },
  "language_info": {
   "codemirror_mode": {
    "name": "ipython",
    "version": 3
   },
   "file_extension": ".py",
   "mimetype": "text/x-python",
   "name": "python",
   "nbconvert_exporter": "python",
   "pygments_lexer": "ipython3",
   "version": "3.8.10"
  }
 },
 "nbformat": 4,
 "nbformat_minor": 5
}
